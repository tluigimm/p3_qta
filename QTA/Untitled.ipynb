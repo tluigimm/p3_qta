{
 "cells": [
  {
   "cell_type": "code",
   "execution_count": 2,
   "metadata": {},
   "outputs": [],
   "source": [
    "import pandas as pd\n",
    "import matplotlib.pyplot as plt"
   ]
  },
  {
   "cell_type": "code",
   "execution_count": 3,
   "metadata": {},
   "outputs": [],
   "source": [
    "df1 = pd.read_excel(\"RelatorioQualidadeAguasSuperficiais.xlsx\")\n",
    "df2 = pd.read_excel(\"RelatorioQualidadeAguasSuperficiais (1).xlsx\")\n",
    "df3 = pd.read_excel(\"RelatorioQualidadeAguasSuperficiais (2).xlsx\")\n",
    "df4 = pd.read_excel(\"RelatorioQualidadeAguasSuperficiais (3).xlsx\")\n",
    "df5 = pd.read_excel(\"RelatorioQualidadeAguasSuperficiais (4).xlsx\")\n",
    "df6 = pd.read_excel(\"RelatorioQualidadeAguasSuperficiais (5).xlsx\")\n",
    "df7 = pd.read_excel(\"RelatorioQualidadeAguasSuperficiais (8).xlsx\")"
   ]
  },
  {
   "cell_type": "code",
   "execution_count": 4,
   "metadata": {},
   "outputs": [],
   "source": [
    "df_list = [df1, df2,df3,df4,df5,df6,df7]"
   ]
  },
  {
   "cell_type": "code",
   "execution_count": 5,
   "metadata": {},
   "outputs": [],
   "source": [
    "df = pd.concat(df_list)"
   ]
  },
  {
   "cell_type": "code",
   "execution_count": 6,
   "metadata": {},
   "outputs": [],
   "source": [
    "dfinal = pd.read_excel(\"tabelacompleta.xlsx\", decimal=\",\")\n",
    "dfinal[\"Data Coleta\"] = dfinal[\"Data Coleta\"].astype('datetime64[ns]')"
   ]
  },
  {
   "cell_type": "code",
   "execution_count": 9,
   "metadata": {},
   "outputs": [
    {
     "data": {
      "text/html": [
       "<div>\n",
       "<style scoped>\n",
       "    .dataframe tbody tr th:only-of-type {\n",
       "        vertical-align: middle;\n",
       "    }\n",
       "\n",
       "    .dataframe tbody tr th {\n",
       "        vertical-align: top;\n",
       "    }\n",
       "\n",
       "    .dataframe thead th {\n",
       "        text-align: right;\n",
       "    }\n",
       "</style>\n",
       "<table border=\"1\" class=\"dataframe\">\n",
       "  <thead>\n",
       "    <tr style=\"text-align: right;\">\n",
       "      <th></th>\n",
       "      <th>Data Coleta</th>\n",
       "      <th>Hora Coleta</th>\n",
       "      <th>Parametro</th>\n",
       "      <th>Sinal</th>\n",
       "      <th>Valor</th>\n",
       "      <th>Unidade</th>\n",
       "      <th>Tipo Parâmetro</th>\n",
       "    </tr>\n",
       "  </thead>\n",
       "  <tbody>\n",
       "    <tr>\n",
       "      <th>0</th>\n",
       "      <td>1980-01-03</td>\n",
       "      <td>11:18</td>\n",
       "      <td>pH</td>\n",
       "      <td>NaN</td>\n",
       "      <td>7.28000000</td>\n",
       "      <td>U.pH</td>\n",
       "      <td>3- Químicos</td>\n",
       "    </tr>\n",
       "    <tr>\n",
       "      <th>1</th>\n",
       "      <td>1980-01-03</td>\n",
       "      <td>11:45</td>\n",
       "      <td>pH</td>\n",
       "      <td>NaN</td>\n",
       "      <td>7.01000000</td>\n",
       "      <td>U.pH</td>\n",
       "      <td>3- Químicos</td>\n",
       "    </tr>\n",
       "    <tr>\n",
       "      <th>2</th>\n",
       "      <td>1980-01-03</td>\n",
       "      <td>12:01</td>\n",
       "      <td>pH</td>\n",
       "      <td>NaN</td>\n",
       "      <td>7.06000000</td>\n",
       "      <td>U.pH</td>\n",
       "      <td>3- Químicos</td>\n",
       "    </tr>\n",
       "    <tr>\n",
       "      <th>3</th>\n",
       "      <td>1980-01-03</td>\n",
       "      <td>12:30</td>\n",
       "      <td>pH</td>\n",
       "      <td>NaN</td>\n",
       "      <td>6.79000000</td>\n",
       "      <td>U.pH</td>\n",
       "      <td>3- Químicos</td>\n",
       "    </tr>\n",
       "    <tr>\n",
       "      <th>4</th>\n",
       "      <td>1980-01-03</td>\n",
       "      <td>12:00</td>\n",
       "      <td>pH</td>\n",
       "      <td>NaN</td>\n",
       "      <td>6.49000000</td>\n",
       "      <td>U.pH</td>\n",
       "      <td>3- Químicos</td>\n",
       "    </tr>\n",
       "    <tr>\n",
       "      <th>...</th>\n",
       "      <td>...</td>\n",
       "      <td>...</td>\n",
       "      <td>...</td>\n",
       "      <td>...</td>\n",
       "      <td>...</td>\n",
       "      <td>...</td>\n",
       "      <td>...</td>\n",
       "    </tr>\n",
       "    <tr>\n",
       "      <th>8931</th>\n",
       "      <td>2020-11-05</td>\n",
       "      <td>10:35</td>\n",
       "      <td>Coloração</td>\n",
       "      <td>NaN</td>\n",
       "      <td>Preta</td>\n",
       "      <td>Adimensional</td>\n",
       "      <td>1- Campo</td>\n",
       "    </tr>\n",
       "    <tr>\n",
       "      <th>8932</th>\n",
       "      <td>2020-11-05</td>\n",
       "      <td>09:15</td>\n",
       "      <td>Coloração</td>\n",
       "      <td>NaN</td>\n",
       "      <td>Marrom</td>\n",
       "      <td>Adimensional</td>\n",
       "      <td>1- Campo</td>\n",
       "    </tr>\n",
       "    <tr>\n",
       "      <th>8933</th>\n",
       "      <td>2020-11-05</td>\n",
       "      <td>09:00</td>\n",
       "      <td>Coloração</td>\n",
       "      <td>NaN</td>\n",
       "      <td>Cinza</td>\n",
       "      <td>Adimensional</td>\n",
       "      <td>1- Campo</td>\n",
       "    </tr>\n",
       "    <tr>\n",
       "      <th>8934</th>\n",
       "      <td>2020-11-05</td>\n",
       "      <td>16:55</td>\n",
       "      <td>Coloração</td>\n",
       "      <td>NaN</td>\n",
       "      <td>Preta</td>\n",
       "      <td>Adimensional</td>\n",
       "      <td>1- Campo</td>\n",
       "    </tr>\n",
       "    <tr>\n",
       "      <th>8935</th>\n",
       "      <td>2020-11-05</td>\n",
       "      <td>09:15</td>\n",
       "      <td>Coloração</td>\n",
       "      <td>NaN</td>\n",
       "      <td>Cinza</td>\n",
       "      <td>Adimensional</td>\n",
       "      <td>1- Campo</td>\n",
       "    </tr>\n",
       "  </tbody>\n",
       "</table>\n",
       "<p>8936 rows × 7 columns</p>\n",
       "</div>"
      ],
      "text/plain": [
       "     Data Coleta Hora Coleta  Parametro Sinal       Valor       Unidade  \\\n",
       "0     1980-01-03       11:18         pH   NaN  7.28000000          U.pH   \n",
       "1     1980-01-03       11:45         pH   NaN  7.01000000          U.pH   \n",
       "2     1980-01-03       12:01         pH   NaN  7.06000000          U.pH   \n",
       "3     1980-01-03       12:30         pH   NaN  6.79000000          U.pH   \n",
       "4     1980-01-03       12:00         pH   NaN  6.49000000          U.pH   \n",
       "...          ...         ...        ...   ...         ...           ...   \n",
       "8931  2020-11-05       10:35  Coloração   NaN       Preta  Adimensional   \n",
       "8932  2020-11-05       09:15  Coloração   NaN      Marrom  Adimensional   \n",
       "8933  2020-11-05       09:00  Coloração   NaN       Cinza  Adimensional   \n",
       "8934  2020-11-05       16:55  Coloração   NaN       Preta  Adimensional   \n",
       "8935  2020-11-05       09:15  Coloração   NaN       Cinza  Adimensional   \n",
       "\n",
       "     Tipo Parâmetro  \n",
       "0       3- Químicos  \n",
       "1       3- Químicos  \n",
       "2       3- Químicos  \n",
       "3       3- Químicos  \n",
       "4       3- Químicos  \n",
       "...             ...  \n",
       "8931       1- Campo  \n",
       "8932       1- Campo  \n",
       "8933       1- Campo  \n",
       "8934       1- Campo  \n",
       "8935       1- Campo  \n",
       "\n",
       "[8936 rows x 7 columns]"
      ]
     },
     "execution_count": 9,
     "metadata": {},
     "output_type": "execute_result"
    }
   ],
   "source": [
    "dfinal"
   ]
  },
  {
   "cell_type": "code",
   "execution_count": 45,
   "metadata": {},
   "outputs": [],
   "source": [
    "y = dfinal['Parametro'].unique()"
   ]
  },
  {
   "cell_type": "markdown",
   "metadata": {},
   "source": [
    "'pH', 'Temperatura da Água', 'Temperatura do Ar',\n",
    "'Escherichia coli**','Nitrogênio Total','Turbidez','Oxigênio Dissolvido','Fósforo Total','DBO (5, 20)'"
   ]
  },
  {
   "cell_type": "markdown",
   "metadata": {},
   "source": [
    " residuo total,"
   ]
  },
  {
   "cell_type": "code",
   "execution_count": 42,
   "metadata": {},
   "outputs": [
    {
     "data": {
      "image/png": "[encoded data removed]",
      "text/plain": [
       "<Figure size 432x288 with 1 Axes>"
      ]
     },
     "metadata": {
      "needs_background": "light"
     },
     "output_type": "display_data"
    }
   ],
   "source": [
    "ph = dfinal.loc[dfinal['Parametro'] == \"pH\"]\n",
    "ph = ph[[ \"Valor\",\"Data Coleta\"]]\n",
    "ph.Valor = pd.to_numeric(ph.Valor, downcast=\"float\")\n",
    "plt.scatter(ph[\"Data Coleta\"], ph[\"Valor\"], s =10)"
   ]
  },
  {
   "cell_type": "code",
   "execution_count": 52,
   "metadata": {},
   "outputs": [
    {
     "ename": "AttributeError",
     "evalue": "'NoneType' object has no attribute 'drop_duplicates'",
     "output_type": "error",
     "traceback": [
      "\u001b[0;31m---------------------------------------------------------------------------\u001b[0m",
      "\u001b[0;31mAttributeError\u001b[0m                            Traceback (most recent call last)",
      "\u001b[0;32m<ipython-input-52-8a119e54bbf5>\u001b[0m in \u001b[0;36m<module>\u001b[0;34m\u001b[0m\n\u001b[0;32m----> 1\u001b[0;31m \u001b[0mph\u001b[0m \u001b[0;34m=\u001b[0m \u001b[0mph\u001b[0m\u001b[0;34m.\u001b[0m\u001b[0mdrop_duplicates\u001b[0m\u001b[0;34m(\u001b[0m\u001b[0msubset\u001b[0m \u001b[0;34m=\u001b[0m\u001b[0;34m\"Data Coleta\"\u001b[0m\u001b[0;34m,\u001b[0m \u001b[0mkeep\u001b[0m \u001b[0;34m=\u001b[0m \u001b[0;34m'last'\u001b[0m\u001b[0;34m)\u001b[0m\u001b[0;34m\u001b[0m\u001b[0;34m\u001b[0m\u001b[0m\n\u001b[0m",
      "\u001b[0;31mAttributeError\u001b[0m: 'NoneType' object has no attribute 'drop_duplicates'"
     ]
    }
   ],
   "source": [
    "ph = ph.drop_duplicates(subset =\"Data Coleta\", keep = 'last')"
   ]
  },
  {
   "cell_type": "code",
   "execution_count": 49,
   "metadata": {},
   "outputs": [
    {
     "ename": "TypeError",
     "evalue": "'NoneType' object is not subscriptable",
     "output_type": "error",
     "traceback": [
      "\u001b[0;31m---------------------------------------------------------------------------\u001b[0m",
      "\u001b[0;31mTypeError\u001b[0m                                 Traceback (most recent call last)",
      "\u001b[0;32m<ipython-input-49-75a564e294b5>\u001b[0m in \u001b[0;36m<module>\u001b[0;34m\u001b[0m\n\u001b[0;32m----> 1\u001b[0;31m \u001b[0mplt\u001b[0m\u001b[0;34m.\u001b[0m\u001b[0mscatter\u001b[0m\u001b[0;34m(\u001b[0m\u001b[0mph\u001b[0m\u001b[0;34m[\u001b[0m\u001b[0;34m\"Data Coleta\"\u001b[0m\u001b[0;34m]\u001b[0m\u001b[0;34m,\u001b[0m \u001b[0mph\u001b[0m\u001b[0;34m[\u001b[0m\u001b[0;34m\"Valor\"\u001b[0m\u001b[0;34m]\u001b[0m\u001b[0;34m,\u001b[0m \u001b[0ms\u001b[0m \u001b[0;34m=\u001b[0m\u001b[0;36m10\u001b[0m\u001b[0;34m)\u001b[0m\u001b[0;34m\u001b[0m\u001b[0;34m\u001b[0m\u001b[0m\n\u001b[0m",
      "\u001b[0;31mTypeError\u001b[0m: 'NoneType' object is not subscriptable"
     ]
    }
   ],
   "source": [
    "plt.scatter(ph[\"Data Coleta\"], ph[\"Valor\"], s =10)"
   ]
  },
  {
   "cell_type": "code",
   "execution_count": 43,
   "metadata": {},
   "outputs": [],
   "source": [
    "ph.Valor = ph.Valor.round(2)"
   ]
  },
  {
   "cell_type": "code",
   "execution_count": 44,
   "metadata": {},
   "outputs": [
    {
     "data": {
      "text/plain": [
       "<matplotlib.collections.PathCollection at 0x7f6a09881460>"
      ]
     },
     "execution_count": 44,
     "metadata": {},
     "output_type": "execute_result"
    },
    {
     "data": {
      "image/png": "[encoded data removed]",
      "text/plain": [
       "<Figure size 432x288 with 1 Axes>"
      ]
     },
     "metadata": {
      "needs_background": "light"
     },
     "output_type": "display_data"
    }
   ],
   "source": [
    "plt.scatter(ph[\"Data Coleta\"], ph[\"Valor\"], s =10)"
   ]
  },
  {
   "cell_type": "code",
   "execution_count": 22,
   "metadata": {},
   "outputs": [],
   "source": [
    "x = ph.groupby('Data Coleta').mean()"
   ]
  },
  {
   "cell_type": "code",
   "execution_count": null,
   "metadata": {},
   "outputs": [],
   "source": []
  },
  {
   "cell_type": "code",
   "execution_count": 41,
   "metadata": {},
   "outputs": [
    {
     "data": {
      "text/plain": [
       "<matplotlib.collections.PathCollection at 0x7f6a09122730>"
      ]
     },
     "execution_count": 41,
     "metadata": {},
     "output_type": "execute_result"
    },
    {
     "data": {
      "image/png": "[encoded data removed]",
      "text/plain": [
       "<Figure size 432x288 with 1 Axes>"
      ]
     },
     "metadata": {
      "needs_background": "light"
     },
     "output_type": "display_data"
    }
   ],
   "source": [
    "plt.scatter(ph_final[\"Data Coleta\"], ph_final[\"Valor\"], s =10)"
   ]
  },
  {
   "cell_type": "code",
   "execution_count": null,
   "metadata": {},
   "outputs": [],
   "source": []
  }
 ],
 "metadata": {
  "kernelspec": {
   "display_name": "Python 3",
   "language": "python",
   "name": "python3"
  },
  "language_info": {
   "codemirror_mode": {
    "name": "ipython",
    "version": 3
   },
   "file_extension": ".py",
   "mimetype": "text/x-python",
   "name": "python",
   "nbconvert_exporter": "python",
   "pygments_lexer": "ipython3",
   "version": "3.8.5"
  }
 },
 "nbformat": 4,
 "nbformat_minor": 4
}
